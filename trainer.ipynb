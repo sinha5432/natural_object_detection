{
 "cells": [
  {
   "cell_type": "code",
   "execution_count": null,
   "metadata": {},
   "outputs": [],
   "source": [
    "import splitfolders\n",
    "splitfolders.ratio(\"natural_images\", output=\"data\", seed=69, ratio=(.8, .2), group_prefix=None) # default values"
   ]
  },
  {
   "cell_type": "markdown",
   "metadata": {},
   "source": [
    "Start From Here"
   ]
  },
  {
   "cell_type": "code",
   "execution_count": null,
   "metadata": {},
   "outputs": [],
   "source": [
    "from tensorflow.python.client import device_lib\n",
    "print(device_lib.list_local_devices())"
   ]
  },
  {
   "cell_type": "code",
   "execution_count": 1,
   "metadata": {},
   "outputs": [
    {
     "name": "stderr",
     "output_type": "stream",
     "text": [
      "Using TensorFlow backend.\n"
     ]
    },
    {
     "name": "stdout",
     "output_type": "stream",
     "text": [
      "Found 5516 images belonging to 8 classes.\n",
      "Found 1383 images belonging to 8 classes.\n"
     ]
    }
   ],
   "source": [
    "from keras.preprocessing.image import ImageDataGenerator\n",
    "\n",
    "train_datagen = ImageDataGenerator( rescale=1./255, \n",
    "                                    featurewise_center=False,  # set input mean to 0 over the dataset\n",
    "                                    samplewise_center=False,  # set each sample mean to 0\n",
    "                                    featurewise_std_normalization=False,  # divide inputs by std of the dataset\n",
    "                                    samplewise_std_normalization=False,  # divide each input by its std\n",
    "                                    zca_whitening=False,  # apply ZCA whitening\n",
    "                                    rotation_range=20,  # randomly rotate images in the range (degrees, 0 to 180)\n",
    "                                    zoom_range = 0.2, # Randomly zoom image \n",
    "                                    width_shift_range=0.2,  # randomly shift images horizontally (fraction of total width)\n",
    "                                    height_shift_range=0.2,  # randomly shift images vertically (fraction of total height)\n",
    "                                    horizontal_flip=True,  # randomly flip images\n",
    "                                    vertical_flip=False)  # randomly flip images\n",
    "\n",
    "\n",
    "\n",
    "test_datagen = ImageDataGenerator(rescale=1./255)\n",
    "\n",
    "\n",
    "train_generator = train_datagen.flow_from_directory('data/train', \n",
    "                                                    target_size = (100, 100), \n",
    "                                                    batch_size = 32, \n",
    "                                                    class_mode = 'categorical',\n",
    "                                                    seed=69)\n",
    "                                                    \n",
    "\n",
    "validation_generator = test_datagen.flow_from_directory('data/val',\n",
    "                                                        target_size=(100, 100),\n",
    "                                                        batch_size=32,\n",
    "                                                        class_mode='categorical',\n",
    "                                                        seed=69)\n",
    "                                                        "
   ]
  },
  {
   "cell_type": "code",
   "execution_count": 2,
   "metadata": {},
   "outputs": [
    {
     "name": "stderr",
     "output_type": "stream",
     "text": [
      "Using TensorFlow backend.\n"
     ]
    }
   ],
   "source": [
    "from keras.models import Sequential\n",
    "from keras.optimizers import Adam\n",
    "from keras.callbacks import ReduceLROnPlateau\n",
    "from keras.layers import Dense, Dropout, Flatten, Conv2D, MaxPool2D\n",
    "\n",
    "\n",
    "model = Sequential()\n",
    "\n",
    "model.add(Conv2D(filters = 128, kernel_size = (5,5),padding = 'Same', activation ='relu', input_shape = (100, 100, 3)))\n",
    "model.add(Conv2D(filters = 128, kernel_size = (5,5),padding = 'Same', activation ='relu'))\n",
    "model.add(MaxPool2D(pool_size=(2,2), strides = (2,2)))\n",
    "model.add(Dropout(0.2))\n",
    "\n",
    "model.add(Conv2D(filters = 256, kernel_size = (3,3),padding = 'Same', activation ='relu'))\n",
    "model.add(Conv2D(filters = 256, kernel_size = (3,3),padding = 'Same', activation ='relu'))\n",
    "model.add(MaxPool2D(pool_size=(2,2)))\n",
    "model.add(Dropout(0.2))\n",
    "\n",
    "          \n",
    "model.add(Conv2D(filters = 256, kernel_size = (2,2),padding = 'Same', activation ='relu'))\n",
    "model.add(Conv2D(filters = 256, kernel_size = (2,2),padding = 'Same', activation ='relu'))\n",
    "model.add(MaxPool2D(pool_size=(2,2)))\n",
    "model.add(Dropout(0.2))\n",
    "\n",
    "\n",
    "model.add(Flatten())\n",
    "model.add(Dense(256, activation = \"relu\"))\n",
    "model.add(Dropout(0.2))\n",
    "model.add(Dense(8, activation = \"softmax\"))\n",
    "          \n",
    "          \n",
    "optimizer = Adam(lr=0.001, epsilon=1e-08)\n",
    "\n",
    "model.compile(optimizer = optimizer , loss = \"categorical_crossentropy\", metrics=[\"accuracy\"])\n",
    "          \n",
    "learning_rate_reduction = ReduceLROnPlateau(monitor='val_accuracy', \n",
    "                                            patience=3, \n",
    "                                            verbose=1, \n",
    "                                            factor=0.5, \n",
    "                                            mode = 'max', \n",
    "                                            min_lr=0.00001)"
   ]
  },
  {
   "cell_type": "code",
   "execution_count": 3,
   "metadata": {},
   "outputs": [],
   "source": [
    "model.load_weights('checkpoint/checkpoint.hdf5')"
   ]
  },
  {
   "cell_type": "code",
   "execution_count": 4,
   "metadata": {
    "scrolled": false
   },
   "outputs": [
    {
     "name": "stdout",
     "output_type": "stream",
     "text": [
      "Epoch 1/4\n",
      "173/173 [==============================] - 467s 3s/step - loss: 0.2610 - accuracy: 0.9003 - val_loss: 0.5888 - val_accuracy: 0.9219\n",
      "\n",
      "Epoch 00001: val_accuracy improved from -inf to 0.92191, saving model to checkpoint/checkpoint.hdf5\n",
      "Epoch 2/4\n",
      "173/173 [==============================] - 450s 3s/step - loss: 0.2340 - accuracy: 0.9162 - val_loss: 0.1728 - val_accuracy: 0.9342\n",
      "\n",
      "Epoch 00002: val_accuracy improved from 0.92191 to 0.93420, saving model to checkpoint/checkpoint.hdf5\n",
      "Epoch 3/4\n",
      "173/173 [==============================] - 439s 3s/step - loss: 0.2252 - accuracy: 0.9148 - val_loss: 0.1234 - val_accuracy: 0.9313\n",
      "\n",
      "Epoch 00003: val_accuracy did not improve from 0.93420\n",
      "Epoch 4/4\n",
      "173/173 [==============================] - 434s 3s/step - loss: 0.2179 - accuracy: 0.9188 - val_loss: 0.0080 - val_accuracy: 0.9299\n",
      "\n",
      "Epoch 00004: val_accuracy did not improve from 0.93420\n"
     ]
    }
   ],
   "source": [
    "from keras.callbacks import ModelCheckpoint\n",
    "\n",
    "model_checkpoint_callback = ModelCheckpoint(filepath='checkpoint/checkpoint.hdf5',\n",
    "                                           save_weights_only=False,\n",
    "                                           monitor='val_accuracy',\n",
    "                                           verbose = 1,\n",
    "                                           mode='max',\n",
    "                                           save_best_only=True)\n",
    "\n",
    "\n",
    "\n",
    "\n",
    "history = model.fit(train_generator, \n",
    "                    steps_per_epoch=173, \n",
    "                    epochs=4, \n",
    "                    validation_data=validation_generator, \n",
    "                    validation_steps=44, \n",
    "                    callbacks=[learning_rate_reduction, model_checkpoint_callback])\n",
    "\n",
    "\n",
    "\n",
    "\n",
    "model.save('object_classification_model.h5')\n",
    "\n"
   ]
  },
  {
   "cell_type": "code",
   "execution_count": 8,
   "metadata": {},
   "outputs": [
    {
     "data": {
      "image/png": "[encoded data removed]",
      "text/plain": [
       "<Figure size 432x288 with 2 Axes>"
      ]
     },
     "metadata": {
      "needs_background": "light"
     },
     "output_type": "display_data"
    }
   ],
   "source": [
    "from matplotlib import pyplot as plt\n",
    "\n",
    "\n",
    "fig, ax = plt.subplots(2,1)\n",
    "ax[0].plot(history.history['loss'], color='b', label=\"Training loss\")\n",
    "ax[0].plot(history.history['val_loss'], color='r', label=\"validation loss\",axes =ax[0])\n",
    "legend = ax[0].legend(loc='best', shadow=True)\n",
    "\n",
    "ax[1].plot(history.history['accuracy'], color='b', label=\"Training accuracy\")\n",
    "ax[1].plot(history.history['val_accuracy'], color='r',label=\"Validation accuracy\")\n",
    "legend = ax[1].legend(loc='best', shadow=True)\n",
    "\n",
    "plt.show()"
   ]
  },
  {
   "cell_type": "markdown",
   "metadata": {},
   "source": [
    "Predicting image\n"
   ]
  },
  {
   "cell_type": "code",
   "execution_count": 9,
   "metadata": {},
   "outputs": [
    {
     "name": "stdout",
     "output_type": "stream",
     "text": [
      "{'airplane': 0, 'car': 1, 'cat': 2, 'dog': 3, 'flower': 4, 'fruit': 5, 'motorbike': 6, 'person': 7}\n"
     ]
    }
   ],
   "source": [
    "print(validation_generator.class_indices)"
   ]
  },
  {
   "cell_type": "code",
   "execution_count": 16,
   "metadata": {},
   "outputs": [
    {
     "name": "stdout",
     "output_type": "stream",
     "text": [
      "6\n"
     ]
    }
   ],
   "source": [
    "from PIL import Image\n",
    "import numpy as np\n",
    "from skimage import transform\n",
    "\n",
    "np_image = Image.open('test_data/bike.jpg')\n",
    "np_image = np.array(np_image).astype('float32')/255\n",
    "np_image = transform.resize(np_image, (100, 100, 3))\n",
    "np_image = np.expand_dims(np_image, axis=0)\n",
    "\n",
    "\n",
    "prediction = np.argmax(model.predict(np_image))\n",
    "print(prediction)"
   ]
  },
  {
   "cell_type": "code",
   "execution_count": 3,
   "metadata": {},
   "outputs": [
    {
     "name": "stdout",
     "output_type": "stream",
     "text": [
      "Model: \"sequential_1\"\n",
      "_________________________________________________________________\n",
      "Layer (type)                 Output Shape              Param #   \n",
      "=================================================================\n",
      "conv2d_1 (Conv2D)            (None, 100, 100, 128)     9728      \n",
      "_________________________________________________________________\n",
      "conv2d_2 (Conv2D)            (None, 100, 100, 128)     409728    \n",
      "_________________________________________________________________\n",
      "max_pooling2d_1 (MaxPooling2 (None, 50, 50, 128)       0         \n",
      "_________________________________________________________________\n",
      "dropout_1 (Dropout)          (None, 50, 50, 128)       0         \n",
      "_________________________________________________________________\n",
      "conv2d_3 (Conv2D)            (None, 50, 50, 256)       295168    \n",
      "_________________________________________________________________\n",
      "conv2d_4 (Conv2D)            (None, 50, 50, 256)       590080    \n",
      "_________________________________________________________________\n",
      "max_pooling2d_2 (MaxPooling2 (None, 25, 25, 256)       0         \n",
      "_________________________________________________________________\n",
      "dropout_2 (Dropout)          (None, 25, 25, 256)       0         \n",
      "_________________________________________________________________\n",
      "conv2d_5 (Conv2D)            (None, 25, 25, 256)       262400    \n",
      "_________________________________________________________________\n",
      "conv2d_6 (Conv2D)            (None, 25, 25, 256)       262400    \n",
      "_________________________________________________________________\n",
      "max_pooling2d_3 (MaxPooling2 (None, 12, 12, 256)       0         \n",
      "_________________________________________________________________\n",
      "dropout_3 (Dropout)          (None, 12, 12, 256)       0         \n",
      "_________________________________________________________________\n",
      "flatten_1 (Flatten)          (None, 36864)             0         \n",
      "_________________________________________________________________\n",
      "dense_1 (Dense)              (None, 256)               9437440   \n",
      "_________________________________________________________________\n",
      "dropout_4 (Dropout)          (None, 256)               0         \n",
      "_________________________________________________________________\n",
      "dense_2 (Dense)              (None, 8)                 2056      \n",
      "=================================================================\n",
      "Total params: 11,269,000\n",
      "Trainable params: 11,269,000\n",
      "Non-trainable params: 0\n",
      "_________________________________________________________________\n"
     ]
    }
   ],
   "source": [
    "model.summary()"
   ]
  },
  {
   "cell_type": "code",
   "execution_count": null,
   "metadata": {},
   "outputs": [],
   "source": []
  }
 ],
 "metadata": {
  "kernelspec": {
   "display_name": "Python 3",
   "language": "python",
   "name": "python3"
  },
  "language_info": {
   "codemirror_mode": {
    "name": "ipython",
    "version": 3
   },
   "file_extension": ".py",
   "mimetype": "text/x-python",
   "name": "python",
   "nbconvert_exporter": "python",
   "pygments_lexer": "ipython3",
   "version": "3.7.9"
  }
 },
 "nbformat": 4,
 "nbformat_minor": 4
}
